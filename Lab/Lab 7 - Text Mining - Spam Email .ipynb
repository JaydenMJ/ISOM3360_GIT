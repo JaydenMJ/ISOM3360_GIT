{
 "cells": [
  {
   "cell_type": "markdown",
   "metadata": {},
   "source": [
    "### Spam Detection using Text Mining and Naive Bayes Classifier\n",
    "\n",
    "- Each SMS message can be a spam or a ham (legitimate)."
   ]
  },
  {
   "cell_type": "code",
   "execution_count": 1,
   "metadata": {},
   "outputs": [],
   "source": [
    "# Import useful libararies used for data management\n",
    "import pandas as pd\n",
    "import numpy as np\n",
    "\n",
    "# load dataset 'Spam.csv', using 'python' as engine\n",
    "# https://pandas.pydata.org/pandas-docs/stable/reference/api/pandas.read_csv.html\n",
    "dataset = pd.read_csv('Spam.csv')"
   ]
  },
  {
   "cell_type": "code",
   "execution_count": 2,
   "metadata": {},
   "outputs": [
    {
     "data": {
      "text/html": [
       "<div>\n",
       "<style scoped>\n",
       "    .dataframe tbody tr th:only-of-type {\n",
       "        vertical-align: middle;\n",
       "    }\n",
       "\n",
       "    .dataframe tbody tr th {\n",
       "        vertical-align: top;\n",
       "    }\n",
       "\n",
       "    .dataframe thead th {\n",
       "        text-align: right;\n",
       "    }\n",
       "</style>\n",
       "<table border=\"1\" class=\"dataframe\">\n",
       "  <thead>\n",
       "    <tr style=\"text-align: right;\">\n",
       "      <th></th>\n",
       "      <th>Text</th>\n",
       "      <th>Class</th>\n",
       "    </tr>\n",
       "  </thead>\n",
       "  <tbody>\n",
       "    <tr>\n",
       "      <th>0</th>\n",
       "      <td>Hi...I have to use R to find out the 90% confi...</td>\n",
       "      <td>ham</td>\n",
       "    </tr>\n",
       "    <tr>\n",
       "      <th>1</th>\n",
       "      <td>Francesco Poli wrote:) On Sun, 15 Apr 2007 21:...</td>\n",
       "      <td>ham</td>\n",
       "    </tr>\n",
       "    <tr>\n",
       "      <th>2</th>\n",
       "      <td>Stephen Thorne wrote:) What I was thinking was...</td>\n",
       "      <td>ham</td>\n",
       "    </tr>\n",
       "    <tr>\n",
       "      <th>3</th>\n",
       "      <td>Hi,I have this site that auto generates an ind...</td>\n",
       "      <td>ham</td>\n",
       "    </tr>\n",
       "    <tr>\n",
       "      <th>4</th>\n",
       "      <td>Author: metzeDate: 2007-04-16 08:20:13 +0000 (...</td>\n",
       "      <td>ham</td>\n",
       "    </tr>\n",
       "  </tbody>\n",
       "</table>\n",
       "</div>"
      ],
      "text/plain": [
       "                                                Text Class\n",
       "0  Hi...I have to use R to find out the 90% confi...   ham\n",
       "1  Francesco Poli wrote:) On Sun, 15 Apr 2007 21:...   ham\n",
       "2  Stephen Thorne wrote:) What I was thinking was...   ham\n",
       "3  Hi,I have this site that auto generates an ind...   ham\n",
       "4  Author: metzeDate: 2007-04-16 08:20:13 +0000 (...   ham"
      ]
     },
     "execution_count": 2,
     "metadata": {},
     "output_type": "execute_result"
    }
   ],
   "source": [
    "dataset.head()"
   ]
  },
  {
   "cell_type": "code",
   "execution_count": 3,
   "metadata": {},
   "outputs": [
    {
     "data": {
      "text/plain": [
       "ham     4864\n",
       "spam    3246\n",
       "Name: Class, dtype: int64"
      ]
     },
     "execution_count": 3,
     "metadata": {},
     "output_type": "execute_result"
    }
   ],
   "source": [
    "dataset['Class'].value_counts()\n",
    "# Know the class prier and set out bench mark ie the prediction result should be greter than the number here"
   ]
  },
  {
   "cell_type": "code",
   "execution_count": 4,
   "metadata": {},
   "outputs": [],
   "source": [
    "# convert the 'label' column into a numeric variable; 'ham' as 0, 'spam' as 1\n",
    "\n",
    "dataset['Label'] = dataset['Class'].map({'ham':0, 'spam':1})"
   ]
  },
  {
   "cell_type": "code",
   "execution_count": 5,
   "metadata": {},
   "outputs": [
    {
     "data": {
      "text/html": [
       "<div>\n",
       "<style scoped>\n",
       "    .dataframe tbody tr th:only-of-type {\n",
       "        vertical-align: middle;\n",
       "    }\n",
       "\n",
       "    .dataframe tbody tr th {\n",
       "        vertical-align: top;\n",
       "    }\n",
       "\n",
       "    .dataframe thead th {\n",
       "        text-align: right;\n",
       "    }\n",
       "</style>\n",
       "<table border=\"1\" class=\"dataframe\">\n",
       "  <thead>\n",
       "    <tr style=\"text-align: right;\">\n",
       "      <th></th>\n",
       "      <th>Text</th>\n",
       "      <th>Class</th>\n",
       "      <th>Label</th>\n",
       "    </tr>\n",
       "  </thead>\n",
       "  <tbody>\n",
       "    <tr>\n",
       "      <th>0</th>\n",
       "      <td>Hi...I have to use R to find out the 90% confi...</td>\n",
       "      <td>ham</td>\n",
       "      <td>0</td>\n",
       "    </tr>\n",
       "    <tr>\n",
       "      <th>1</th>\n",
       "      <td>Francesco Poli wrote:) On Sun, 15 Apr 2007 21:...</td>\n",
       "      <td>ham</td>\n",
       "      <td>0</td>\n",
       "    </tr>\n",
       "    <tr>\n",
       "      <th>2</th>\n",
       "      <td>Stephen Thorne wrote:) What I was thinking was...</td>\n",
       "      <td>ham</td>\n",
       "      <td>0</td>\n",
       "    </tr>\n",
       "    <tr>\n",
       "      <th>3</th>\n",
       "      <td>Hi,I have this site that auto generates an ind...</td>\n",
       "      <td>ham</td>\n",
       "      <td>0</td>\n",
       "    </tr>\n",
       "    <tr>\n",
       "      <th>4</th>\n",
       "      <td>Author: metzeDate: 2007-04-16 08:20:13 +0000 (...</td>\n",
       "      <td>ham</td>\n",
       "      <td>0</td>\n",
       "    </tr>\n",
       "  </tbody>\n",
       "</table>\n",
       "</div>"
      ],
      "text/plain": [
       "                                                Text Class  Label\n",
       "0  Hi...I have to use R to find out the 90% confi...   ham      0\n",
       "1  Francesco Poli wrote:) On Sun, 15 Apr 2007 21:...   ham      0\n",
       "2  Stephen Thorne wrote:) What I was thinking was...   ham      0\n",
       "3  Hi,I have this site that auto generates an ind...   ham      0\n",
       "4  Author: metzeDate: 2007-04-16 08:20:13 +0000 (...   ham      0"
      ]
     },
     "execution_count": 5,
     "metadata": {},
     "output_type": "execute_result"
    }
   ],
   "source": [
    "dataset.head()"
   ]
  },
  {
   "cell_type": "code",
   "execution_count": 6,
   "metadata": {},
   "outputs": [],
   "source": [
    "# Now let's define X and y \n",
    "\n",
    "X = dataset['Text']\n",
    "y = dataset['Label']"
   ]
  },
  {
   "cell_type": "code",
   "execution_count": 7,
   "metadata": {},
   "outputs": [
    {
     "data": {
      "text/plain": [
       "(8110,)"
      ]
     },
     "execution_count": 7,
     "metadata": {},
     "output_type": "execute_result"
    }
   ],
   "source": [
    "# show the dimension of the X\n",
    "#https://docs.scipy.org/doc/numpy/reference/generated/numpy.ndarray.shape.html\n",
    "X.shape"
   ]
  },
  {
   "cell_type": "code",
   "execution_count": 8,
   "metadata": {},
   "outputs": [],
   "source": [
    "# Import the CountVectorizer\n",
    "from sklearn.feature_extraction.text import CountVectorizer\n",
    "\n",
    "# Now we are ready to vectorize the data\n",
    "# first, instantiate the vectorizer\n",
    "# https://scikit-learn.org/stable/modules/generated/sklearn.feature_extraction.text.CountVectorizer.html\n",
    "# When building the vocabulary ignore terms that have a document frequency strictly lower than the min_df (proportion), or higher than max_df\n",
    "vectorizer = CountVectorizer(encoding='utf-8',stop_words='english',min_df=0.02, max_df=0.5)"
   ]
  },
  {
   "cell_type": "code",
   "execution_count": 9,
   "metadata": {},
   "outputs": [
    {
     "data": {
      "text/plain": [
       "CountVectorizer(max_df=0.5, min_df=0.02, stop_words='english')"
      ]
     },
     "execution_count": 9,
     "metadata": {},
     "output_type": "execute_result"
    }
   ],
   "source": [
    "vectorizer"
   ]
  },
  {
   "cell_type": "code",
   "execution_count": 10,
   "metadata": {},
   "outputs": [],
   "source": [
    "# Learn the vocabulary dictionary and return term-document matrix.\n",
    "# https://scikit-learn.org/stable/modules/generated/sklearn.feature_extraction.text.CountVectorizer.html#sklearn.feature_extraction.text.CountVectorizer.fit_transform\n",
    "X_vec = vectorizer.fit_transform(X)"
   ]
  },
  {
   "cell_type": "code",
   "execution_count": 11,
   "metadata": {},
   "outputs": [
    {
     "name": "stdout",
     "output_type": "stream",
     "text": [
      "['00', '000', '0000', '00our', '00proposition', '00we', '01', '02', '0200', '03', '04', '05', '06', '07', '08', '09', '0nline', '10', '100', '11', '12', '128', '129', '13', '14', '149', '149ableton', '15', '16', '17', '18', '185technologies', '19', '1imited', '1o', '20', '2006', '2007', '21', '22', '23', '24', '2441', '2442', '2480', '25', '26', '27', '28', '29', '2http', '30', '31', '319', '32', '33', '35', '36', '369', '37', '38', '39', '399', '40', '40speedy', '41', '425', '44', '449', '45', '47', '49', '49adobe', '49http', '50', '500', '59', '60', '69adobe', '75', '79', '80', '819', '89', '899', '90', '95', '95you', '95your', '99', '______________________________________________', '______________________________________________r', 'able', 'ac', 'access', 'account', 'accurate', 'acrobat', 'action', 'actually', 'add', 'added', 'additional', 'address', 'adobe', 'advance', 'advancedsolution', 'advertisement', 'advisor', 'affiliates', 'alert', 'alerttmxotrimax', 'allow', 'alternative', 'analyst', 'andrew', 'andshould', 'answer', 'applied', 'applying', 'apr', 'april', 'archive', 'arenegotiating', 'argument', 'ask', 'atches', 'author', 'autocad', 'autodesk', 'availability', 'available', 'banker', 'base', 'based', 'begin', 'beginners', 'behalf', 'believe', 'benefit', 'best', 'better', 'big', 'bin', 'bit', 'borland', 'bounces', 'box', 'bpl', 'braille', 'branch', 'branches', 'broadband', 'broker', 'brokerdealer', 'bug', 'build', 'business', 'buy', 'ca', 'called', 'case', 'cash', 'cc', 'cchangeset', 'cd', 'cgi', 'ch', 'change', 'changes', 'check', 'cheers', 'choice', 'class', 'click', 'close', 'code', 'com', 'come', 'comes', 'command', 'commands', 'commented', 'comments', 'communication', 'company', 'complete', 'computer', 'confidential', 'considered', 'consult', 'contact', 'contain', 'contained', 'containsforward', 'content', 'context', 'control', 'copy', 'copyright', 'corel', 'correct', 'cost', 'course', 'create', 'created', 'creative', 'cs', 'cs2', 'current', 'currently', 'daily', 'data', 'date', 'day', 'days', 'deal', 'dear', 'debian', 'decrease', 'default', 'defined', 'deleted', 'deliver', 'details', 'did', 'didn', 'different', 'directors', 'directory', 'dis', 'discounts', 'discreet', 'discrete', 'discussed', 'does', 'doesn', 'doing', 'domain', 'don', 'download', 'downloaded', 'drive', 'drugs', 'dvd', 'easy', 'editionregular', 'edu', 'effects', 'efficient', 'electronic', 'email', 'ement', 'employees', 'en1argment', 'encryptedhigh', 'end', 'enhan', 'enterprise', 'environment', 'error', 'errors', 'ethz', 'event', 'exactly', 'example', 'experience', 'factor', 'fail', 'failed', 'false', 'far', 'fast', 'favorite', 'fax', 'fedex', 'feel', 'file', 'files', 'fine', 'fix', 'fixed', 'follow', 'following', 'form', 'format', 'frame', 'free', 'fri', 'friday', 'function', 'functions', 'future', 'general', 'generic', 'getting', 'given', 'gives', 'global', 'gmail', 'going', 'good', 'got', 'grafix', 'great', 'grid', 'group', 'guaranteed', 'guess', 'guide', 'hard', 'hash', 'haven', 'having', 'health', 'hello', 'help', 'helpplease', 'helps', 'hes', 'hi', 'high', 'hk', 'home', 'hope', 'host', 'html', 'https', 'id', 'idea', 'illustrator', 'important', 'include', 'including', 'inclusive', 'independent', 'index', 'info', 'information', 'informationbelieved', 'install', 'installed', 'instant', 'instantly', 'instead', 'int', 'intend', 'internet', 'introducing', 'investment', 'involve', 'isn', 'issue', 'items', 'john', 'just', 'key', 'kind', 'know', 'laptop', 'large', 'later', 'latest', 'learn', 'leave', 'legal', 'length', 'let', 'level', 'lib', 'library', 'license', 'licensed', 'life', 'like', 'line', 'lines', 'link', 'linux', 'list', 'listhttps', 'listinfo', 'lists', 'little', 'live', 'll', 'local', 'log', 'long', 'longer', 'look', 'looking', 'looks', 'loop', 'lose', 'lot', 'lover', 'low', 'mac', 'machine', 'macromedia', 'mail', 'mailing', 'mailman', 'mailto', 'main', 'make', 'maker', 'makes', 'making', 'male', 'manner', 'manuals', 'manufacturers', 'market', 'material', 'math', 'matrix', 'matter', 'maybe', 'maybuy', 'mean', 'means', 'meds', 'memory', 'men', 'mentioned', 'message', 'method', 'methods', 'microsoft', 'millions', 'minimal', 'missing', 'model', 'modified', 'module', 'moment', 'mon', 'monday', 'money', 'month', 'ms', 'names', 'nearfuture', 'need', 'needed', 'needs', 'net', 'network', 'new', 'newest', 'news', 'nice', 'nick', 'no_prescripti0n_needed', 'non', 'note', 'null', 'number', 'object', 'oem', 'offer', 'offering', 'offers', 'office', 'officers', 'ok', 'old', 'online', 'open', 'opinion', 'option', 'order', 'org', 'orgfor', 'orghttp', 'original', 'orprofit', 'otc', 'ounts', 'output', 'package', 'packages', 'packing', 'page', 'parrot', 'particular', 'parties', 'pat', 'patch', 'path', 'pay', 'people', 'perl', 'phone', 'photoshop', 'php', 'pi11', 'pl', 'place', 'plain', 'plot', 'pm', 'pnis', 'point', 'points', 'possible', 'post', 'posting', 'power', 'pr0', 'premiere', 'premium', 'prepared', 'price', 'prices', 'print', 'pro', 'probably', 'problem', 'problems', 'process', 'product', 'products', 'producttestpanel', 'professional', 'professionalmarket', 'profit', 'program', 'project', 'property', 'propose', 'provide', 'providers', 'public', 'purchase', 'purchasingor', 'quality', 'question', 'questions', 'quickerand', 'quite', 'rank', 'read', 'reading', 'ready', 'real', 'really', 'reason', 'receive', 'received', 'regards', 'release', 'reliable', 'remove', 'reply', 'report', 'reproducible', 'request', 'required', 'research', 'result', 'results', 'return', 'rev', 'reviews', 'revision', 'revno', 'rice', 'right', 'rights', 'rise', 'risks', 'road', 'roof', 'root', 'run', 'running', 'rx', 'safe', 'safer', 'safest', 'said', 'samba', 'samba_3_0', 'samba_4_0', 'save', 'say', 'says', 'script', 'search', 'second', 'section', 'sector', 'securities', 'seen', 'self', 'sell', 'selling', 'send', 'sent', 'server', 'service', 'set', 'share', 'shares', 'shipping', 'shop', 'short', 'signed', 'similar', 'simple', 'simply', 'site', 'situation', 'size', 'small', 'software', 'solution', 'sorry', 'sort', 'source', 'south', 'sp2', 'special', 'specific', 'speed', 'speedy', 'standard', 'start', 'started', 'stat', 'state', 'statements', 'states', 'statistics', 'stats', 'status', 'step', 'stop', 'store', 'street', 'string', 'studio', 'stuff', 'sub', 'subject', 'suite', 'sun', 'support', 'sure', 'symmetrical', 't0', 't1sales', 't2', 't3best', 't4', 't6', 'table', 'target', 'team', 'technologies', 'tell', 'term', 'terms', 'test', 'tests', 'text', 'thank', 'thanks', 'thay', 'theirsize', 'thing', 'things', 'think', 'thought', 'throw', 'thu', 'time', 'times', 'tmxo', 'today', 'trackable', 'trade', 'transmission', 'tried', 'true', 'try', 'trying', 'tue', 'type', 'uk', 'ultimate', 'ultimateretail', 'uncertainties', 'understand', 'underwriter', 'unhappy', 'university', 'unless', 'unreal', 'unsubscribe', 'url', 'use', 'used', 'useful', 'user', 'users', 'uses', 'using', 'usr', 'utc', 'uwaterloo', 'uwo', 'value', 'values', 'variable', 'variables', 've', 'version', 'video', 'view', 'viewcvs', 'viewed', 'visit', 'vista', 'voice', 'want', 'wanted', 'warning', 'watch', 'watching', 'way', 'web', 'website', 'websvn', 'wed', 'week', 'weeks', 'windows', 'wish', 'women', 'won', 'work', 'working', 'works', 'world', 'write', 'writes', 'wrong', 'wrote', 'www', 'x3', 'xp', 'yahoo', 'year', 'years', 'yes', 'youcould']\n"
     ]
    }
   ],
   "source": [
    "# print the terms\n",
    "# https://scikit-learn.org/stable/modules/generated/sklearn.feature_extraction.text.CountVectorizer.html#sklearn.feature_extraction.text.CountVectorizer.get_feature_names\n",
    "print(vectorizer.get_feature_names())"
   ]
  },
  {
   "cell_type": "code",
   "execution_count": 12,
   "metadata": {},
   "outputs": [
    {
     "data": {
      "text/plain": [
       "760"
      ]
     },
     "execution_count": 12,
     "metadata": {},
     "output_type": "execute_result"
    }
   ],
   "source": [
    "len(vectorizer.get_feature_names())"
   ]
  },
  {
   "cell_type": "code",
   "execution_count": 33,
   "metadata": {},
   "outputs": [
    {
     "name": "stdout",
     "output_type": "stream",
     "text": [
      "[[0 0 0 ... 0 0 0]\n",
      " [1 0 0 ... 0 0 0]\n",
      " [0 0 0 ... 0 0 0]\n",
      " ...\n",
      " [0 0 0 ... 0 0 0]\n",
      " [0 0 0 ... 0 0 0]\n",
      " [0 0 0 ... 0 0 0]]\n"
     ]
    }
   ],
   "source": [
    "# get the count of each terms in each document\n",
    "print(X_vec.toarray())"
   ]
  },
  {
   "cell_type": "code",
   "execution_count": 34,
   "metadata": {},
   "outputs": [
    {
     "name": "stdout",
     "output_type": "stream",
     "text": [
      "  (0, 320)\t1\n",
      "  (0, 704)\t1\n",
      "  (0, 85)\t1\n",
      "  (0, 283)\t1\n",
      "  (0, 666)\t2\n",
      "  (0, 487)\t1\n",
      "  (0, 35)\t2\n",
      "  (0, 442)\t3\n",
      "  (0, 445)\t1\n",
      "  (0, 459)\t1\n",
      "  (0, 560)\t1\n",
      "  (0, 612)\t1\n",
      "  (0, 180)\t1\n",
      "  (0, 450)\t1\n",
      "  (0, 316)\t4\n",
      "  (0, 722)\t1\n",
      "  (0, 427)\t1\n",
      "  (0, 196)\t1\n",
      "  (0, 752)\t2\n",
      "  (0, 177)\t2\n",
      "  (0, 326)\t2\n",
      "  (0, 402)\t2\n",
      "  (0, 379)\t1\n",
      "  (0, 122)\t1\n",
      "  (0, 91)\t1\n",
      "  :\t:\n",
      "  (8109, 128)\t1\n",
      "  (8109, 50)\t1\n",
      "  (8109, 511)\t1\n",
      "  (8109, 78)\t1\n",
      "  (8109, 72)\t2\n",
      "  (8109, 26)\t1\n",
      "  (8109, 496)\t1\n",
      "  (8109, 73)\t1\n",
      "  (8109, 658)\t1\n",
      "  (8109, 657)\t1\n",
      "  (8109, 694)\t1\n",
      "  (8109, 4)\t1\n",
      "  (8109, 88)\t2\n",
      "  (8109, 44)\t1\n",
      "  (8109, 656)\t1\n",
      "  (8109, 246)\t1\n",
      "  (8109, 84)\t1\n",
      "  (8109, 3)\t1\n",
      "  (8109, 87)\t1\n",
      "  (8109, 43)\t1\n",
      "  (8109, 654)\t1\n",
      "  (8109, 527)\t1\n",
      "  (8109, 5)\t1\n",
      "  (8109, 58)\t1\n",
      "  (8109, 42)\t1\n"
     ]
    }
   ],
   "source": [
    "print(X_vec)"
   ]
  },
  {
   "cell_type": "code",
   "execution_count": null,
   "metadata": {},
   "outputs": [],
   "source": []
  },
  {
   "cell_type": "code",
   "execution_count": 15,
   "metadata": {},
   "outputs": [],
   "source": [
    "# Now let's import cross validation\n",
    "from sklearn.model_selection import cross_val_score,cross_val_predict"
   ]
  },
  {
   "cell_type": "code",
   "execution_count": 16,
   "metadata": {},
   "outputs": [],
   "source": [
    "#Import Multinomial Naive Bayes model from sklearn\n",
    "from sklearn.naive_bayes import MultinomialNB\n",
    "\n",
    "# Create a Multinomial Naive Bayes Classifier, which is frequently used in Tf-idf\n",
    "# https://scikit-learn.org/stable/modules/generated/sklearn.naive_bayes.MultinomialNB.html\n",
    "mnb = MultinomialNB()"
   ]
  },
  {
   "cell_type": "code",
   "execution_count": 17,
   "metadata": {},
   "outputs": [],
   "source": [
    "# Make class prediction for test set\n",
    "# y_pred_class is the binary label\n",
    "# https://scikit-learn.org/stable/modules/generated/sklearn.naive_bayes.MultinomialNB.html#sklearn.naive_bayes.MultinomialNB.predict\n",
    "score = cross_val_score(mnb,X_vec,y,cv=10)\n"
   ]
  },
  {
   "cell_type": "code",
   "execution_count": 18,
   "metadata": {},
   "outputs": [
    {
     "data": {
      "text/plain": [
       "0.9326757090012331"
      ]
     },
     "execution_count": 18,
     "metadata": {},
     "output_type": "execute_result"
    }
   ],
   "source": [
    "score.mean()"
   ]
  },
  {
   "cell_type": "code",
   "execution_count": 19,
   "metadata": {},
   "outputs": [],
   "source": [
    "# import libararies for evaluation measures\n",
    "from sklearn.metrics import classification_report\n",
    "from sklearn.metrics import confusion_matrix"
   ]
  },
  {
   "cell_type": "code",
   "execution_count": 20,
   "metadata": {},
   "outputs": [],
   "source": [
    "# get predicted class for y\n",
    "y_pred_class = cross_val_predict(mnb,X_vec,y,cv=10)"
   ]
  },
  {
   "cell_type": "code",
   "execution_count": 21,
   "metadata": {},
   "outputs": [
    {
     "data": {
      "text/plain": [
       "array([0, 0, 0, ..., 1, 1, 1], dtype=int64)"
      ]
     },
     "execution_count": 21,
     "metadata": {},
     "output_type": "execute_result"
    }
   ],
   "source": [
    "y_pred_class"
   ]
  },
  {
   "cell_type": "code",
   "execution_count": 21,
   "metadata": {},
   "outputs": [
    {
     "name": "stdout",
     "output_type": "stream",
     "text": [
      "Confusion Matrix: \n",
      " [[4822   42]\n",
      " [ 504 2742]]\n",
      "Classification Report: \n",
      "               precision    recall  f1-score   support\n",
      "\n",
      "           0       0.91      0.99      0.95      4864\n",
      "           1       0.98      0.84      0.91      3246\n",
      "\n",
      "    accuracy                           0.93      8110\n",
      "   macro avg       0.95      0.92      0.93      8110\n",
      "weighted avg       0.94      0.93      0.93      8110\n",
      "\n"
     ]
    }
   ],
   "source": [
    "print(\"Confusion Matrix:\", \"\\n\", confusion_matrix(y, y_pred_class))\n",
    "print(\"Classification Report:\",\"\\n\", classification_report(y, y_pred_class))"
   ]
  },
  {
   "cell_type": "code",
   "execution_count": 22,
   "metadata": {},
   "outputs": [],
   "source": [
    "# y_pred_prob is the probability estimate\n",
    "# https://scikit-learn.org/stable/modules/generated/sklearn.naive_bayes.MultinomialNB.html#sklearn.naive_bayes.MultinomialNB.predict_proba\n",
    "y_pred_prob = cross_val_predict(mnb,X_vec,y,cv=10, method ='predict_proba')"
   ]
  },
  {
   "cell_type": "code",
   "execution_count": 24,
   "metadata": {},
   "outputs": [
    {
     "data": {
      "text/plain": [
       "array([[1.00000000e+000, 1.44071416e-065],\n",
       "       [1.00000000e+000, 1.11410429e-041],\n",
       "       [9.99999282e-001, 7.17970080e-007],\n",
       "       ...,\n",
       "       [4.04859657e-273, 1.00000000e+000],\n",
       "       [2.18793793e-002, 9.78120621e-001],\n",
       "       [4.04859657e-273, 1.00000000e+000]])"
      ]
     },
     "execution_count": 24,
     "metadata": {},
     "output_type": "execute_result"
    }
   ],
   "source": [
    "y_pred_prob"
   ]
  },
  {
   "cell_type": "code",
   "execution_count": 23,
   "metadata": {},
   "outputs": [],
   "source": [
    "from sklearn.metrics import roc_curve\n",
    "from sklearn.metrics import auc\n",
    "\n",
    "# y_test is the true label, pred_prob[:,1] measures the predicted probability of belonging to class 1 (which is defined as positive class)\n",
    "# https://scikit-learn.org/stable/modules/generated/sklearn.metrics.roc_curve.html\n",
    "fpr, tpr, thresholds = roc_curve(y, y_pred_prob[:,1], pos_label=1)\n"
   ]
  },
  {
   "cell_type": "code",
   "execution_count": 24,
   "metadata": {},
   "outputs": [
    {
     "data": {
      "text/plain": [
       "0.9922698381814056"
      ]
     },
     "execution_count": 24,
     "metadata": {},
     "output_type": "execute_result"
    }
   ],
   "source": [
    "# Aread under ROC curve\n",
    "roc_auc=auc(fpr,tpr)\n",
    "roc_auc"
   ]
  },
  {
   "cell_type": "code",
   "execution_count": 25,
   "metadata": {},
   "outputs": [
    {
     "data": {
      "image/png": "[encoded data removed]",
      "text/plain": [
       "<Figure size 432x288 with 1 Axes>"
      ]
     },
     "metadata": {
      "needs_background": "light"
     },
     "output_type": "display_data"
    }
   ],
   "source": [
    "import matplotlib.pyplot as plt\n",
    "%matplotlib inline\n",
    "\n",
    "plt.figure()\n",
    "lw = 2\n",
    "plt.plot(fpr, tpr, marker='o',color='darkorange',\n",
    "         lw=lw, label='ROC curve (area = %0.2f)' % roc_auc)\n",
    "plt.plot([0, 1], [0, 1], color='navy', lw=lw, linestyle='--')\n",
    "plt.xlim([-0.05, 1.0])\n",
    "plt.ylim([0.0, 1.05])\n",
    "plt.xlabel('False Positive Rate')\n",
    "plt.ylabel('True Positive Rate')\n",
    "plt.title('Receiver operating characteristic')\n",
    "plt.legend(loc=\"lower right\")\n",
    "plt.show()"
   ]
  },
  {
   "cell_type": "code",
   "execution_count": 28,
   "metadata": {
    "scrolled": true
   },
   "outputs": [
    {
     "data": {
      "text/plain": [
       "65      -- One person has been killed and one wounded ...\n",
       "93      -- At least 20 people were fatally shot Monday...\n",
       "117     -- The death toll in the Virgina Tech campus s...\n",
       "136     April 16, 2007Salem, MassachusettsBy Mike Cint...\n",
       "157     April 9, 2007Salem, MassachusettsBy Paul Goodw...\n",
       "276     -- The gunman in Monday's Virginia Tech campus...\n",
       "319     Hello sm1lies,The total prize pool for the Onl...\n",
       "335     At 2 p.m. ET Katie Couric will anchor live cov...\n",
       "351     WATCH LIVE STREAMING VIDEO OF ONGOING VIRGINIA...\n",
       "432     Hello sm1lies,We thought you may like to know ...\n",
       "548     -- Bombings in Baghdad kill 127 people, includ...\n",
       "567     -- U.S. Supreme Court in a 5-4 ruling upholds ...\n",
       "796     \"Chas Owens\" schreef:) foreach is dead, long l...\n",
       "956     April 19, 2007Salem, MassachusettsBy Timothy L...\n",
       "995     -- The jury in the trial of Mary Winkler finds...\n",
       "1296    Hello sm1lies,This is your last day to registe...\n",
       "1326    Hello sm1lies,A new Assembly Contest is now op...\n",
       "1390    April 21, 2007Dear Cabot Wealth Advisory Reade...\n",
       "1426    -- A member of the U.S. Navy's Blue Angels pre...\n",
       "1689    Dear RefWorks User, We hope you are taking adv...\n",
       "1746    -- Former Russian President Boris Yeltsin has ...\n",
       "1838    April 23, 2007Salem, MassachusettsBy Timothy L...\n",
       "1886    -- Nine U.S. soldiers were killed in a bombing...\n",
       "2117    Today U.S. Court of Appeals for the Federal Ci...\n",
       "2293    Hi ,You have requested to change your MySpace ...\n",
       "2570    NGO Response to Abbott???s announced $1000 pri...\n",
       "2584    -- The U.S. Senate has voted to approve a war ...\n",
       "2621    April 26, 2007Salem, MassachusettsBy Timothy L...\n",
       "2627    -- Larry Birkhead is the father of Anna Nicole...\n",
       "2651    -- Zach Johnson holds off Tiger Woods and Reti...\n",
       "2900    Hello sm1lies,It's time for another Microsoft ...\n",
       "3821    -- North Carolina Attorney General Roy Cooper ...\n",
       "3874    -- MSNBC is canceling its simulcast of Don Imu...\n",
       "3955    -- Kurt Vonnegut, whose novels included \"Slaug...\n",
       "4008    -- An explosion has occurred in the cafeteria ...\n",
       "4178    -- The local prosecutor who charged three Duke...\n",
       "4187    -- CBS cancels Don Imus' radio show, effective...\n",
       "4240    X-Comments: Super Retention + Best Speed. Down...\n",
       "4243    X-Comments: Super Retention + Best Speed. Down...\n",
       "4619    Featuring Lutts' Logic:France vs. ChinaEntrepr...\n",
       "4739    -- One person died today after being shot in a...\n",
       "4840    I heard Kate singing The Long and Winding Road...\n",
       "Name: Text, dtype: object"
      ]
     },
     "execution_count": 28,
     "metadata": {},
     "output_type": "execute_result"
    }
   ],
   "source": [
    "# Now let's see the false positive messages\n",
    "X[(y == 0) & (y_pred_class==1)]"
   ]
  },
  {
   "cell_type": "code",
   "execution_count": 29,
   "metadata": {},
   "outputs": [
    {
     "data": {
      "text/plain": [
       "MultinomialNB(alpha=1.0, class_prior=None, fit_prior=True)"
      ]
     },
     "execution_count": 29,
     "metadata": {},
     "output_type": "execute_result"
    }
   ],
   "source": [
    "# train the model using all training set \n",
    "mnb.fit(X_vec, y)"
   ]
  },
  {
   "cell_type": "code",
   "execution_count": null,
   "metadata": {},
   "outputs": [],
   "source": []
  },
  {
   "cell_type": "markdown",
   "metadata": {},
   "source": [
    "#### TODO\n",
    "- Please try TfidfVectorizer later to see the model performance (https://scikit-learn.org/stable/modules/generated/sklearn.feature_extraction.text.TfidfVectorizer.html)\n",
    "- You need to use \"from sklearn.feature_extraction.text import TfidfVectorizer\" to import the TfidfVectorizer first"
   ]
  }
 ],
 "metadata": {
  "kernelspec": {
   "display_name": "Python 3",
   "language": "python",
   "name": "python3"
  },
  "language_info": {
   "codemirror_mode": {
    "name": "ipython",
    "version": 3
   },
   "file_extension": ".py",
   "mimetype": "text/x-python",
   "name": "python",
   "nbconvert_exporter": "python",
   "pygments_lexer": "ipython3",
   "version": "3.8.3"
  }
 },
 "nbformat": 4,
 "nbformat_minor": 2
}
