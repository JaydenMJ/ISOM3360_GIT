{
 "cells": [
  {
   "cell_type": "markdown",
   "metadata": {},
   "source": [
    "### In this lab, we will be using a Voting Classifier in which the ensemble model makes the prediction by majority vote. For example, if we use three models and they predict [1, 0, 1] for the target variable, the final prediction that the ensemble model would make would be 1, since two out of the three models predicted 1.\n",
    "\n",
    "### We will use three different models to put into our Voting Classifier: Random Forest, Boosting tree and Logistic Regression. We will use the Scikit-learn library in Python to implement these methods and use the diabetes dataset in our example."
   ]
  },
  {
   "cell_type": "code",
   "execution_count": 1,
   "metadata": {},
   "outputs": [
    {
     "data": {
      "text/html": [
       "<div>\n",
       "<style scoped>\n",
       "    .dataframe tbody tr th:only-of-type {\n",
       "        vertical-align: middle;\n",
       "    }\n",
       "\n",
       "    .dataframe tbody tr th {\n",
       "        vertical-align: top;\n",
       "    }\n",
       "\n",
       "    .dataframe thead th {\n",
       "        text-align: right;\n",
       "    }\n",
       "</style>\n",
       "<table border=\"1\" class=\"dataframe\">\n",
       "  <thead>\n",
       "    <tr style=\"text-align: right;\">\n",
       "      <th></th>\n",
       "      <th>id</th>\n",
       "      <th>preg</th>\n",
       "      <th>plas</th>\n",
       "      <th>pres</th>\n",
       "      <th>skin</th>\n",
       "      <th>insu</th>\n",
       "      <th>mass</th>\n",
       "      <th>pedi</th>\n",
       "      <th>age</th>\n",
       "      <th>Class</th>\n",
       "    </tr>\n",
       "  </thead>\n",
       "  <tbody>\n",
       "    <tr>\n",
       "      <th>0</th>\n",
       "      <td>1</td>\n",
       "      <td>6</td>\n",
       "      <td>148</td>\n",
       "      <td>72</td>\n",
       "      <td>35</td>\n",
       "      <td>0</td>\n",
       "      <td>33.6</td>\n",
       "      <td>0.627</td>\n",
       "      <td>50</td>\n",
       "      <td>1</td>\n",
       "    </tr>\n",
       "    <tr>\n",
       "      <th>1</th>\n",
       "      <td>2</td>\n",
       "      <td>1</td>\n",
       "      <td>85</td>\n",
       "      <td>66</td>\n",
       "      <td>29</td>\n",
       "      <td>0</td>\n",
       "      <td>26.6</td>\n",
       "      <td>0.351</td>\n",
       "      <td>31</td>\n",
       "      <td>0</td>\n",
       "    </tr>\n",
       "    <tr>\n",
       "      <th>2</th>\n",
       "      <td>3</td>\n",
       "      <td>8</td>\n",
       "      <td>183</td>\n",
       "      <td>64</td>\n",
       "      <td>0</td>\n",
       "      <td>0</td>\n",
       "      <td>23.3</td>\n",
       "      <td>0.672</td>\n",
       "      <td>32</td>\n",
       "      <td>1</td>\n",
       "    </tr>\n",
       "    <tr>\n",
       "      <th>3</th>\n",
       "      <td>4</td>\n",
       "      <td>1</td>\n",
       "      <td>89</td>\n",
       "      <td>66</td>\n",
       "      <td>23</td>\n",
       "      <td>94</td>\n",
       "      <td>28.1</td>\n",
       "      <td>0.167</td>\n",
       "      <td>21</td>\n",
       "      <td>0</td>\n",
       "    </tr>\n",
       "    <tr>\n",
       "      <th>4</th>\n",
       "      <td>5</td>\n",
       "      <td>0</td>\n",
       "      <td>137</td>\n",
       "      <td>40</td>\n",
       "      <td>35</td>\n",
       "      <td>168</td>\n",
       "      <td>43.1</td>\n",
       "      <td>2.288</td>\n",
       "      <td>33</td>\n",
       "      <td>1</td>\n",
       "    </tr>\n",
       "  </tbody>\n",
       "</table>\n",
       "</div>"
      ],
      "text/plain": [
       "   id  preg  plas  pres  skin  insu  mass   pedi  age  Class\n",
       "0   1     6   148    72    35     0  33.6  0.627   50      1\n",
       "1   2     1    85    66    29     0  26.6  0.351   31      0\n",
       "2   3     8   183    64     0     0  23.3  0.672   32      1\n",
       "3   4     1    89    66    23    94  28.1  0.167   21      0\n",
       "4   5     0   137    40    35   168  43.1  2.288   33      1"
      ]
     },
     "execution_count": 1,
     "metadata": {},
     "output_type": "execute_result"
    }
   ],
   "source": [
    "import pandas as pd\n",
    "import numpy as np\n",
    "#read in the dataset\n",
    "df = pd.read_csv('Diabetes.csv')\n",
    "#take a look at the data\n",
    "df.head()"
   ]
  },
  {
   "cell_type": "code",
   "execution_count": 2,
   "metadata": {},
   "outputs": [],
   "source": [
    "# define features and target\n",
    "features = ['preg','plas','pres','skin','insu','mass','pedi','age']\n",
    "X = df[features]\n",
    "y = df['Class']"
   ]
  },
  {
   "cell_type": "code",
   "execution_count": 3,
   "metadata": {},
   "outputs": [],
   "source": [
    "from sklearn.model_selection import cross_val_score, cross_val_predict"
   ]
  },
  {
   "cell_type": "code",
   "execution_count": 4,
   "metadata": {},
   "outputs": [],
   "source": [
    "from sklearn.model_selection import GridSearchCV\n",
    "# Exhaustive search over specified parameter values for an estimator\n",
    "#GridSearchCV implements a “fit” and a “score” method\n",
    "#https://scikit-learn.org/stable/modules/generated/sklearn.model_selection.GridSearchCV.html"
   ]
  },
  {
   "cell_type": "markdown",
   "metadata": {},
   "source": [
    "# Build Models"
   ]
  },
  {
   "cell_type": "markdown",
   "metadata": {},
   "source": [
    "## use KNN model as the benchmark model"
   ]
  },
  {
   "cell_type": "code",
   "execution_count": 5,
   "metadata": {},
   "outputs": [],
   "source": [
    "from sklearn.neighbors import KNeighborsClassifier"
   ]
  },
  {
   "cell_type": "code",
   "execution_count": 6,
   "metadata": {},
   "outputs": [],
   "source": [
    "#create new a knn model\n",
    "knn = KNeighborsClassifier()"
   ]
  },
  {
   "cell_type": "code",
   "execution_count": 7,
   "metadata": {},
   "outputs": [],
   "source": [
    "#create a dictionary of all values we want to test for n_neighbors\n",
    "params_knn = {'n_neighbors': np.arange(1, 25)}"
   ]
  },
  {
   "cell_type": "code",
   "execution_count": 8,
   "metadata": {},
   "outputs": [],
   "source": [
    "#use gridsearch to test all values for n_neighbors\n",
    "knn_gs = GridSearchCV(knn, params_knn, cv=10)"
   ]
  },
  {
   "cell_type": "code",
   "execution_count": 9,
   "metadata": {},
   "outputs": [
    {
     "data": {
      "text/plain": [
       "GridSearchCV(cv=10, estimator=KNeighborsClassifier(),\n",
       "             param_grid={'n_neighbors': array([ 1,  2,  3,  4,  5,  6,  7,  8,  9, 10, 11, 12, 13, 14, 15, 16, 17,\n",
       "       18, 19, 20, 21, 22, 23, 24])})"
      ]
     },
     "execution_count": 9,
     "metadata": {},
     "output_type": "execute_result"
    }
   ],
   "source": [
    "knn_gs.fit(X, y)"
   ]
  },
  {
   "cell_type": "code",
   "execution_count": 10,
   "metadata": {},
   "outputs": [
    {
     "name": "stdout",
     "output_type": "stream",
     "text": [
      "{'n_neighbors': 18}\n"
     ]
    }
   ],
   "source": [
    "# print n which generate best accuracy\n",
    "print(knn_gs.best_params_)"
   ]
  },
  {
   "cell_type": "code",
   "execution_count": 11,
   "metadata": {},
   "outputs": [],
   "source": [
    "# using n = 18 to create our knn model\n",
    "knn_best = KNeighborsClassifier(n_neighbors=18)"
   ]
  },
  {
   "cell_type": "code",
   "execution_count": 12,
   "metadata": {},
   "outputs": [
    {
     "data": {
      "text/plain": [
       "0.7554340396445658"
      ]
     },
     "execution_count": 12,
     "metadata": {},
     "output_type": "execute_result"
    }
   ],
   "source": [
    "# cross validation accuray from best knn model\n",
    "accuracy_kNN = cross_val_score(knn_best,X,y,cv=10).mean()\n",
    "accuracy_kNN"
   ]
  },
  {
   "cell_type": "markdown",
   "metadata": {},
   "source": [
    "## 1. Random Forest"
   ]
  },
  {
   "cell_type": "code",
   "execution_count": 13,
   "metadata": {},
   "outputs": [],
   "source": [
    "from sklearn.ensemble import RandomForestClassifier\n",
    "\n",
    "# a diverse set of classifiers is created by introducing randomness in the classifier construction. \n",
    "# The prediction of the ensemble is given as the averaged prediction of the individual classifiers\n",
    "# https://scikit-learn.org/stable/modules/generated/sklearn.ensemble.RandomForestClassifier.html#sklearn.ensemble.RandomForestClassifier\n"
   ]
  },
  {
   "cell_type": "code",
   "execution_count": 14,
   "metadata": {},
   "outputs": [],
   "source": [
    "#create a new random forest classifier\n",
    "rf = RandomForestClassifier()"
   ]
  },
  {
   "cell_type": "markdown",
   "metadata": {},
   "source": [
    "### Random Forest Parameter\n",
    "#### 1. n_estimators : The number of trees in the forest. Default = 10"
   ]
  },
  {
   "cell_type": "code",
   "execution_count": 15,
   "metadata": {},
   "outputs": [
    {
     "data": {
      "text/plain": [
       "0.764524948735475"
      ]
     },
     "execution_count": 15,
     "metadata": {},
     "output_type": "execute_result"
    }
   ],
   "source": [
    "accuracy = cross_val_score (rf, X, y, cv=10).mean()\n",
    "accuracy"
   ]
  },
  {
   "cell_type": "code",
   "execution_count": 16,
   "metadata": {},
   "outputs": [],
   "source": [
    "#create a dictionary of all values we want to test for n_estimators, number of trees\n",
    "params_rf = {'n_estimators': [50, 100, 200]}"
   ]
  },
  {
   "cell_type": "code",
   "execution_count": 17,
   "metadata": {},
   "outputs": [],
   "source": [
    "#use gridsearch to test all values for n_estimators\n",
    "rf_gs = GridSearchCV(rf, params_rf, cv=5)"
   ]
  },
  {
   "cell_type": "code",
   "execution_count": 18,
   "metadata": {},
   "outputs": [
    {
     "data": {
      "text/plain": [
       "GridSearchCV(cv=5, estimator=RandomForestClassifier(),\n",
       "             param_grid={'n_estimators': [50, 100, 200]})"
      ]
     },
     "execution_count": 18,
     "metadata": {},
     "output_type": "execute_result"
    }
   ],
   "source": [
    "#fit model to training data\n",
    "rf_gs.fit(X, y)"
   ]
  },
  {
   "cell_type": "code",
   "execution_count": 19,
   "metadata": {},
   "outputs": [
    {
     "name": "stdout",
     "output_type": "stream",
     "text": [
      "{'n_estimators': 100}\n"
     ]
    }
   ],
   "source": [
    "#save best model\n",
    "rf_best = rf_gs.best_estimator_\n",
    "#check best n_estimators value\n",
    "print(rf_gs.best_params_)"
   ]
  },
  {
   "cell_type": "code",
   "execution_count": 20,
   "metadata": {},
   "outputs": [],
   "source": [
    "# create best model of random forest in term of number of trees\n",
    "rf_best = RandomForestClassifier(n_estimators = 200)"
   ]
  },
  {
   "cell_type": "code",
   "execution_count": 21,
   "metadata": {},
   "outputs": [
    {
     "data": {
      "text/plain": [
       "RandomForestClassifier(n_estimators=200)"
      ]
     },
     "execution_count": 21,
     "metadata": {},
     "output_type": "execute_result"
    }
   ],
   "source": [
    "# fit the random forest\n",
    "rf_best.fit(X,y)"
   ]
  },
  {
   "cell_type": "code",
   "execution_count": 22,
   "metadata": {},
   "outputs": [
    {
     "data": {
      "text/plain": [
       "0.7619275461380723"
      ]
     },
     "execution_count": 22,
     "metadata": {},
     "output_type": "execute_result"
    }
   ],
   "source": [
    "accuracy_rf = cross_val_score (rf_best, X, y, cv=10).mean()\n",
    "accuracy_rf"
   ]
  },
  {
   "cell_type": "code",
   "execution_count": 23,
   "metadata": {},
   "outputs": [
    {
     "name": "stdout",
     "output_type": "stream",
     "text": [
      "[0.08319263 0.25894012 0.09157692 0.06783479 0.07239876 0.1668392\n",
      " 0.12447275 0.13474483]\n"
     ]
    }
   ],
   "source": [
    "# Return the feature importances (the higher, the more important the feature)\n",
    "print(rf_best.feature_importances_)"
   ]
  },
  {
   "cell_type": "code",
   "execution_count": 24,
   "metadata": {},
   "outputs": [
    {
     "name": "stdout",
     "output_type": "stream",
     "text": [
      "[DecisionTreeClassifier(max_features='auto', random_state=1097926426), DecisionTreeClassifier(max_features='auto', random_state=2087696221), DecisionTreeClassifier(max_features='auto', random_state=1269729456), DecisionTreeClassifier(max_features='auto', random_state=583263753), DecisionTreeClassifier(max_features='auto', random_state=114945964), DecisionTreeClassifier(max_features='auto', random_state=1867266078), DecisionTreeClassifier(max_features='auto', random_state=766983807), DecisionTreeClassifier(max_features='auto', random_state=1275429372), DecisionTreeClassifier(max_features='auto', random_state=2029), DecisionTreeClassifier(max_features='auto', random_state=1681690716), DecisionTreeClassifier(max_features='auto', random_state=432535698), DecisionTreeClassifier(max_features='auto', random_state=512653505), DecisionTreeClassifier(max_features='auto', random_state=1095604175), DecisionTreeClassifier(max_features='auto', random_state=203888164), DecisionTreeClassifier(max_features='auto', random_state=1117728324), DecisionTreeClassifier(max_features='auto', random_state=1341089065), DecisionTreeClassifier(max_features='auto', random_state=1623002763), DecisionTreeClassifier(max_features='auto', random_state=18539753), DecisionTreeClassifier(max_features='auto', random_state=38098671), DecisionTreeClassifier(max_features='auto', random_state=228698305), DecisionTreeClassifier(max_features='auto', random_state=739138571), DecisionTreeClassifier(max_features='auto', random_state=1791914948), DecisionTreeClassifier(max_features='auto', random_state=1330040394), DecisionTreeClassifier(max_features='auto', random_state=716514372), DecisionTreeClassifier(max_features='auto', random_state=1025756188), DecisionTreeClassifier(max_features='auto', random_state=1376131258), DecisionTreeClassifier(max_features='auto', random_state=1973611138), DecisionTreeClassifier(max_features='auto', random_state=635535115), DecisionTreeClassifier(max_features='auto', random_state=1645070340), DecisionTreeClassifier(max_features='auto', random_state=46472340), DecisionTreeClassifier(max_features='auto', random_state=586851270), DecisionTreeClassifier(max_features='auto', random_state=337776879), DecisionTreeClassifier(max_features='auto', random_state=806307855), DecisionTreeClassifier(max_features='auto', random_state=2109378), DecisionTreeClassifier(max_features='auto', random_state=1816216507), DecisionTreeClassifier(max_features='auto', random_state=1214936342), DecisionTreeClassifier(max_features='auto', random_state=1198678234), DecisionTreeClassifier(max_features='auto', random_state=759871045), DecisionTreeClassifier(max_features='auto', random_state=939920115), DecisionTreeClassifier(max_features='auto', random_state=102062776), DecisionTreeClassifier(max_features='auto', random_state=866523252), DecisionTreeClassifier(max_features='auto', random_state=1129827590), DecisionTreeClassifier(max_features='auto', random_state=31864770), DecisionTreeClassifier(max_features='auto', random_state=779728520), DecisionTreeClassifier(max_features='auto', random_state=533779223), DecisionTreeClassifier(max_features='auto', random_state=2097269467), DecisionTreeClassifier(max_features='auto', random_state=1296990248), DecisionTreeClassifier(max_features='auto', random_state=1798731934), DecisionTreeClassifier(max_features='auto', random_state=1179095855), DecisionTreeClassifier(max_features='auto', random_state=88588151), DecisionTreeClassifier(max_features='auto', random_state=1100864859), DecisionTreeClassifier(max_features='auto', random_state=1763790678), DecisionTreeClassifier(max_features='auto', random_state=1070391312), DecisionTreeClassifier(max_features='auto', random_state=1229548317), DecisionTreeClassifier(max_features='auto', random_state=1354865004), DecisionTreeClassifier(max_features='auto', random_state=1000411098), DecisionTreeClassifier(max_features='auto', random_state=278750908), DecisionTreeClassifier(max_features='auto', random_state=677980106), DecisionTreeClassifier(max_features='auto', random_state=1616732896), DecisionTreeClassifier(max_features='auto', random_state=305776984), DecisionTreeClassifier(max_features='auto', random_state=532558775), DecisionTreeClassifier(max_features='auto', random_state=2108650329), DecisionTreeClassifier(max_features='auto', random_state=952007598), DecisionTreeClassifier(max_features='auto', random_state=361022930), DecisionTreeClassifier(max_features='auto', random_state=2041556900), DecisionTreeClassifier(max_features='auto', random_state=1578918944), DecisionTreeClassifier(max_features='auto', random_state=1870446254), DecisionTreeClassifier(max_features='auto', random_state=723224354), DecisionTreeClassifier(max_features='auto', random_state=406518598), DecisionTreeClassifier(max_features='auto', random_state=1834021338), DecisionTreeClassifier(max_features='auto', random_state=999413403), DecisionTreeClassifier(max_features='auto', random_state=503542230), DecisionTreeClassifier(max_features='auto', random_state=685892800), DecisionTreeClassifier(max_features='auto', random_state=2134217894), DecisionTreeClassifier(max_features='auto', random_state=549052485), DecisionTreeClassifier(max_features='auto', random_state=518986542), DecisionTreeClassifier(max_features='auto', random_state=1844964839), DecisionTreeClassifier(max_features='auto', random_state=926359181), DecisionTreeClassifier(max_features='auto', random_state=1398185115), DecisionTreeClassifier(max_features='auto', random_state=7695865), DecisionTreeClassifier(max_features='auto', random_state=2013345739), DecisionTreeClassifier(max_features='auto', random_state=394364060), DecisionTreeClassifier(max_features='auto', random_state=1930960419), DecisionTreeClassifier(max_features='auto', random_state=940710238), DecisionTreeClassifier(max_features='auto', random_state=2072089635), DecisionTreeClassifier(max_features='auto', random_state=436150018), DecisionTreeClassifier(max_features='auto', random_state=1834824664), DecisionTreeClassifier(max_features='auto', random_state=1158517099), DecisionTreeClassifier(max_features='auto', random_state=163659316), DecisionTreeClassifier(max_features='auto', random_state=1952518235), DecisionTreeClassifier(max_features='auto', random_state=1050922586), DecisionTreeClassifier(max_features='auto', random_state=1429475108), DecisionTreeClassifier(max_features='auto', random_state=966331369), DecisionTreeClassifier(max_features='auto', random_state=401937466), DecisionTreeClassifier(max_features='auto', random_state=324921397), DecisionTreeClassifier(max_features='auto', random_state=78925486), DecisionTreeClassifier(max_features='auto', random_state=1607610790), DecisionTreeClassifier(max_features='auto', random_state=3312123), DecisionTreeClassifier(max_features='auto', random_state=535413842), DecisionTreeClassifier(max_features='auto', random_state=397634897), DecisionTreeClassifier(max_features='auto', random_state=2032051090), DecisionTreeClassifier(max_features='auto', random_state=869859761), DecisionTreeClassifier(max_features='auto', random_state=1217870376), DecisionTreeClassifier(max_features='auto', random_state=49030118), DecisionTreeClassifier(max_features='auto', random_state=1260215686), DecisionTreeClassifier(max_features='auto', random_state=1701690914), DecisionTreeClassifier(max_features='auto', random_state=1795612896), DecisionTreeClassifier(max_features='auto', random_state=777203991), DecisionTreeClassifier(max_features='auto', random_state=688910270), DecisionTreeClassifier(max_features='auto', random_state=1449484756), DecisionTreeClassifier(max_features='auto', random_state=620310171), DecisionTreeClassifier(max_features='auto', random_state=1724614226), DecisionTreeClassifier(max_features='auto', random_state=1950363613), DecisionTreeClassifier(max_features='auto', random_state=709596688), DecisionTreeClassifier(max_features='auto', random_state=652764093), DecisionTreeClassifier(max_features='auto', random_state=1333111862), DecisionTreeClassifier(max_features='auto', random_state=238952416), DecisionTreeClassifier(max_features='auto', random_state=1907390582), DecisionTreeClassifier(max_features='auto', random_state=1062288367), DecisionTreeClassifier(max_features='auto', random_state=1047586289), DecisionTreeClassifier(max_features='auto', random_state=2122049876), DecisionTreeClassifier(max_features='auto', random_state=1410297977), DecisionTreeClassifier(max_features='auto', random_state=510632862), DecisionTreeClassifier(max_features='auto', random_state=2008174930), DecisionTreeClassifier(max_features='auto', random_state=662190535), DecisionTreeClassifier(max_features='auto', random_state=1321961125), DecisionTreeClassifier(max_features='auto', random_state=1402423610), DecisionTreeClassifier(max_features='auto', random_state=779180982), DecisionTreeClassifier(max_features='auto', random_state=1694119829), DecisionTreeClassifier(max_features='auto', random_state=118621349), DecisionTreeClassifier(max_features='auto', random_state=583372591), DecisionTreeClassifier(max_features='auto', random_state=509748261), DecisionTreeClassifier(max_features='auto', random_state=1575004710), DecisionTreeClassifier(max_features='auto', random_state=2034382788), DecisionTreeClassifier(max_features='auto', random_state=1776511706), DecisionTreeClassifier(max_features='auto', random_state=1558693615), DecisionTreeClassifier(max_features='auto', random_state=926106594), DecisionTreeClassifier(max_features='auto', random_state=1772482407), DecisionTreeClassifier(max_features='auto', random_state=1961454910), DecisionTreeClassifier(max_features='auto', random_state=362728349), DecisionTreeClassifier(max_features='auto', random_state=1030137342), DecisionTreeClassifier(max_features='auto', random_state=307996727), DecisionTreeClassifier(max_features='auto', random_state=121061411), DecisionTreeClassifier(max_features='auto', random_state=904834888), DecisionTreeClassifier(max_features='auto', random_state=1516711735), DecisionTreeClassifier(max_features='auto', random_state=529226975), DecisionTreeClassifier(max_features='auto', random_state=1129682296), DecisionTreeClassifier(max_features='auto', random_state=1924805101), DecisionTreeClassifier(max_features='auto', random_state=1547381841), DecisionTreeClassifier(max_features='auto', random_state=1832602577), DecisionTreeClassifier(max_features='auto', random_state=1177437233), DecisionTreeClassifier(max_features='auto', random_state=243668308), DecisionTreeClassifier(max_features='auto', random_state=1818115489), DecisionTreeClassifier(max_features='auto', random_state=1351474919), DecisionTreeClassifier(max_features='auto', random_state=327732109), DecisionTreeClassifier(max_features='auto', random_state=15776990), DecisionTreeClassifier(max_features='auto', random_state=1723870404), DecisionTreeClassifier(max_features='auto', random_state=1283006277), DecisionTreeClassifier(max_features='auto', random_state=1844205887), DecisionTreeClassifier(max_features='auto', random_state=1254860915), DecisionTreeClassifier(max_features='auto', random_state=1417620086), DecisionTreeClassifier(max_features='auto', random_state=1935635810), DecisionTreeClassifier(max_features='auto', random_state=1994552717), DecisionTreeClassifier(max_features='auto', random_state=62745070), DecisionTreeClassifier(max_features='auto', random_state=1905051409), DecisionTreeClassifier(max_features='auto', random_state=2018051737), DecisionTreeClassifier(max_features='auto', random_state=1703002195), DecisionTreeClassifier(max_features='auto', random_state=1489648031), DecisionTreeClassifier(max_features='auto', random_state=691158611), DecisionTreeClassifier(max_features='auto', random_state=829990405), DecisionTreeClassifier(max_features='auto', random_state=627145344), DecisionTreeClassifier(max_features='auto', random_state=900592578), DecisionTreeClassifier(max_features='auto', random_state=594980436), DecisionTreeClassifier(max_features='auto', random_state=1845326632), DecisionTreeClassifier(max_features='auto', random_state=2045484267), DecisionTreeClassifier(max_features='auto', random_state=1227340525), DecisionTreeClassifier(max_features='auto', random_state=1895682598), DecisionTreeClassifier(max_features='auto', random_state=1187367765), DecisionTreeClassifier(max_features='auto', random_state=1386178347), DecisionTreeClassifier(max_features='auto', random_state=671751912), DecisionTreeClassifier(max_features='auto', random_state=1567120495), DecisionTreeClassifier(max_features='auto', random_state=1486927004), DecisionTreeClassifier(max_features='auto', random_state=1856912751), DecisionTreeClassifier(max_features='auto', random_state=1529200116), DecisionTreeClassifier(max_features='auto', random_state=298114507), DecisionTreeClassifier(max_features='auto', random_state=1375462625), DecisionTreeClassifier(max_features='auto', random_state=95677515), DecisionTreeClassifier(max_features='auto', random_state=56634384), DecisionTreeClassifier(max_features='auto', random_state=1075096362), DecisionTreeClassifier(max_features='auto', random_state=967900602), DecisionTreeClassifier(max_features='auto', random_state=784516700), DecisionTreeClassifier(max_features='auto', random_state=500515384), DecisionTreeClassifier(max_features='auto', random_state=112730498), DecisionTreeClassifier(max_features='auto', random_state=858678939), DecisionTreeClassifier(max_features='auto', random_state=513180861), DecisionTreeClassifier(max_features='auto', random_state=137539093), DecisionTreeClassifier(max_features='auto', random_state=1362705016), DecisionTreeClassifier(max_features='auto', random_state=1020492823), DecisionTreeClassifier(max_features='auto', random_state=1979760317), DecisionTreeClassifier(max_features='auto', random_state=1549446466)]\n"
     ]
    }
   ],
   "source": [
    "print(rf_best.estimators_)"
   ]
  },
  {
   "cell_type": "markdown",
   "metadata": {},
   "source": [
    "## 2. AdaBoost Model"
   ]
  },
  {
   "cell_type": "code",
   "execution_count": 27,
   "metadata": {},
   "outputs": [],
   "source": [
    "from sklearn.ensemble import AdaBoostClassifier\n",
    "\n",
    "#https://scikit-learn.org/stable/modules/generated/sklearn.ensemble.AdaBoostClassifier.html#sklearn.ensemble.AdaBoostClassifier"
   ]
  },
  {
   "cell_type": "code",
   "execution_count": 28,
   "metadata": {},
   "outputs": [],
   "source": [
    "# Create adaboost classifer object\n",
    "abc = AdaBoostClassifier(n_estimators=50, learning_rate=0.5)"
   ]
  },
  {
   "cell_type": "markdown",
   "metadata": {},
   "source": [
    "### AdaBoost Parameter\n",
    "#### 1.base_estimator: The base estimator from which the boosted ensemble is built, If None, then the base estimator is DecisionTreeClassifier(max_depth=1)\n",
    "#### 2. n_estimators: The maximum number of estimators at which boosting is terminated\n",
    "#### 3. learning_rate: Learning rate shrinks the contribution of each classifier by learning_rate. There is a trade-off between learning_rate and n_estimators. "
   ]
  },
  {
   "cell_type": "code",
   "execution_count": 29,
   "metadata": {},
   "outputs": [
    {
     "data": {
      "text/plain": [
       "0.7632604237867395"
      ]
     },
     "execution_count": 29,
     "metadata": {},
     "output_type": "execute_result"
    }
   ],
   "source": [
    "accuracy_abc = cross_val_score(abc,X,y,cv=10).mean()\n",
    "accuracy_abc"
   ]
  },
  {
   "cell_type": "markdown",
   "metadata": {},
   "source": [
    "## Voting Classifier"
   ]
  },
  {
   "cell_type": "code",
   "execution_count": 30,
   "metadata": {},
   "outputs": [],
   "source": [
    "from sklearn.ensemble import VotingClassifier\n",
    "#https://scikit-learn.org/stable/modules/generated/sklearn.ensemble.VotingClassifier.html\n"
   ]
  },
  {
   "cell_type": "code",
   "execution_count": 31,
   "metadata": {},
   "outputs": [],
   "source": [
    "#create a dictionary of our models\n",
    "estimators=[('knn', knn_best), ('rf', rf_best), ('abc', abc)]"
   ]
  },
  {
   "cell_type": "code",
   "execution_count": 32,
   "metadata": {},
   "outputs": [],
   "source": [
    "#create our voting classifier, inputting our models\n",
    "ensemble = VotingClassifier(estimators, voting='hard')\n",
    "\n",
    "# If ‘hard’, uses predicted class labels for majority rule voting"
   ]
  },
  {
   "cell_type": "code",
   "execution_count": 33,
   "metadata": {},
   "outputs": [
    {
     "data": {
      "text/plain": [
       "VotingClassifier(estimators=[('knn', KNeighborsClassifier(n_neighbors=18)),\n",
       "                             ('rf', RandomForestClassifier(n_estimators=200)),\n",
       "                             ('abc', AdaBoostClassifier(learning_rate=0.5))])"
      ]
     },
     "execution_count": 33,
     "metadata": {},
     "output_type": "execute_result"
    }
   ],
   "source": [
    "#fit model to training data\n",
    "ensemble.fit(X, y)"
   ]
  },
  {
   "cell_type": "code",
   "execution_count": 34,
   "metadata": {},
   "outputs": [
    {
     "data": {
      "text/plain": [
       "0.7633287764866712"
      ]
     },
     "execution_count": 34,
     "metadata": {},
     "output_type": "execute_result"
    }
   ],
   "source": [
    "Accuracy_ensemble = cross_val_score (ensemble,X,y,cv=10).mean()\n",
    "Accuracy_ensemble"
   ]
  },
  {
   "cell_type": "code",
   "execution_count": null,
   "metadata": {},
   "outputs": [],
   "source": []
  }
 ],
 "metadata": {
  "kernelspec": {
   "display_name": "Python 3",
   "language": "python",
   "name": "python3"
  },
  "language_info": {
   "codemirror_mode": {
    "name": "ipython",
    "version": 3
   },
   "file_extension": ".py",
   "mimetype": "text/x-python",
   "name": "python",
   "nbconvert_exporter": "python",
   "pygments_lexer": "ipython3",
   "version": "3.8.3"
  }
 },
 "nbformat": 4,
 "nbformat_minor": 2
}
